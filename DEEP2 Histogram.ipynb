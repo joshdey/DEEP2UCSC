{
 "cells": [
  {
   "cell_type": "code",
   "execution_count": 1,
   "metadata": {},
   "outputs": [],
   "source": [
    "import matplotlib.pyplot as plt\n",
    "from astropy.io import fits\n",
    "import numpy as np"
   ]
  },
  {
   "cell_type": "code",
   "execution_count": 2,
   "metadata": {},
   "outputs": [],
   "source": [
    "hdul = fits.open('zcat.deep2.dr4.fits.gz')"
   ]
  },
  {
   "cell_type": "code",
   "execution_count": 3,
   "metadata": {},
   "outputs": [
    {
     "name": "stdout",
     "output_type": "stream",
     "text": [
      "[(11001673, 213.86870448, 51.95644459, 23.487745, 23.143082, 22.582092, 0.02649129, 0.02204254, 0.02925331, 1.369818 , 0.04566062, -46.94859   , 0.9999999, 0.01094287, -999.    , -999.    , '11001673', 1101,  0, '2003-05-06', 52765.457, 213.86906 , 51.956367  , -48.858,  4.855, -1.       , -1.        ,  9.9990002e+02, 2, 'NONE', 'NONE', 0.6309338,   57, 999.9     , 9.9990002e+02, 'bcol; bext')\n",
      " (11001699, 213.81047113, 51.94231595, 22.067692, 20.034674, 19.54508 , 0.00900035, 0.00147836, 0.00207892, 1.9572897, 0.0259335 ,  -0.39657494, 3.       , 0.01101403,  -19.2287,    1.1295, '11001699', 1100,  7, '2003-05-03', 52762.44 , 213.81044 , 51.942436  , -48.858,  4.201,  0.2906415,  0.2906078 ,  4.2614429e-05, 4, 'GALAXY', 'NONE', 1.1781532, 5901, 166.33499 , 4.9481255e+01, '')\n",
      " (11001770, 213.84843111, 51.94887606, 24.144438, 24.10318 , 24.020006, 0.06826758, 0.07660318, 0.15249288, 2.1842115, 0.3323544 ,  -9.432587  , 3.       , 0.01085568, -999.    , -999.    , '11001770', 1101,  3, '2003-05-06', 52765.457, 213.84874 , 51.94867   , -18.858, 10.266, -1.       , -1.        , -5.0000000e+00, 1, 'GALAXY', 'NONE', 1.04726  , 5318, 184.86    , 1.9500000e+02, '')\n",
      " ...\n",
      " (43101206,  37.91501999,  0.53932047, 24.684504, 22.983843, 21.980728, 0.29831755, 0.02868115, 0.01865304, 2.2691438, 0.20641693, -47.35988   , 3.       , 0.02270367,  -19.4223,    1.0724, '43101206', 4303, 77, '2005-09-08', 53621.51 ,  37.915222,  0.5396418 ,  32.5  ,  6.89 ,  0.6969668,  0.6970397 ,  1.0935683e-04, 4, 'GALAXY', 'NONE', 0.9904974, 7433, 390.      , 9.9990000e+03, '')\n",
      " (43101237,  37.92046356,  0.67073774, 25.278444, 22.3498  , 20.995121, 0.6700419 , 0.023791  , 0.00881866, 2.9202964, 0.5449852 ,  43.19017   , 3.       , 0.02308567,  -21.3808,    1.2449, '43101237', 4341, 14, '2004-09-19', 53267.47 ,  37.92047 ,  0.67072636, -27.5  ,  8.587,  0.8825441,  0.88260406,  8.0674639e-05, 4, 'GALAXY', 'NONE', 0.9783484, 6599, 138.5475  , 5.9328747e+01, 'supser')\n",
      " (43101239,  37.85565567,  0.70470732, 23.996586, 22.469868, 21.511227, 0.24203128, 0.02403134, 0.01438181, 3.2947087, 0.43533257,  79.03236   , 3.       , 0.0229813 ,  -19.2831,    1.0948, '43101239', 4340, 33, '2004-10-14', 53292.523,  37.855526,  0.7049557 , -27.5  ,  6.863,  0.6050155,  0.60503745,  2.1014044e-05, 4, 'GALAXY', 'NONE', 1.1433632, 7427,  38.219997, 5.4112492e+00, '')]\n"
     ]
    }
   ],
   "source": [
    "data = hdul[1].data\n",
    "print(data)"
   ]
  },
  {
   "cell_type": "code",
   "execution_count": 4,
   "metadata": {},
   "outputs": [],
   "source": [
    "x =data.ZQUALITY"
   ]
  },
  {
   "cell_type": "code",
   "execution_count": 5,
   "metadata": {},
   "outputs": [
    {
     "name": "stdout",
     "output_type": "stream",
     "text": [
      "[2 4 1 ... 4 4 4]\n"
     ]
    },
    {
     "data": {
      "text/plain": [
       "-2"
      ]
     },
     "execution_count": 5,
     "metadata": {},
     "output_type": "execute_result"
    }
   ],
   "source": [
    "print(x)\n",
    "min(x)"
   ]
  },
  {
   "cell_type": "code",
   "execution_count": 6,
   "metadata": {},
   "outputs": [],
   "source": [
    "modx = x[x != -2]"
   ]
  },
  {
   "cell_type": "code",
   "execution_count": 7,
   "metadata": {},
   "outputs": [
    {
     "data": {
      "text/plain": [
       "52455"
      ]
     },
     "execution_count": 7,
     "metadata": {},
     "output_type": "execute_result"
    }
   ],
   "source": [
    "len(modx)"
   ]
  },
  {
   "cell_type": "code",
   "execution_count": 8,
   "metadata": {},
   "outputs": [
    {
     "data": {
      "text/plain": [
       "51509"
      ]
     },
     "execution_count": 8,
     "metadata": {},
     "output_type": "execute_result"
    }
   ],
   "source": [
    "modx = modx[modx != -1]\n",
    "len(modx)"
   ]
  },
  {
   "cell_type": "code",
   "execution_count": 9,
   "metadata": {},
   "outputs": [
    {
     "data": {
      "text/plain": [
       "42588"
      ]
     },
     "execution_count": 9,
     "metadata": {},
     "output_type": "execute_result"
    }
   ],
   "source": [
    "modx = modx[modx != 1]\n",
    "len(modx)"
   ]
  },
  {
   "cell_type": "code",
   "execution_count": 10,
   "metadata": {},
   "outputs": [
    {
     "data": {
      "text/plain": [
       "37402"
      ]
     },
     "execution_count": 10,
     "metadata": {},
     "output_type": "execute_result"
    }
   ],
   "source": [
    "modx = modx[modx != 2]\n",
    "len(modx)"
   ]
  },
  {
   "cell_type": "code",
   "execution_count": 11,
   "metadata": {},
   "outputs": [
    {
     "data": {
      "text/plain": [
       "(array([ 6224., 31178.]), array([3. , 3.5, 4. ]), <a list of 2 Patch objects>)"
      ]
     },
     "execution_count": 11,
     "metadata": {},
     "output_type": "execute_result"
    },
    {
     "data": {
      "image/png": "[encoded data removed]",
      "text/plain": [
       "<Figure size 432x288 with 1 Axes>"
      ]
     },
     "metadata": {},
     "output_type": "display_data"
    }
   ],
   "source": [
    "plt.hist(modx, bins=2)"
   ]
  },
  {
   "cell_type": "code",
   "execution_count": 12,
   "metadata": {},
   "outputs": [
    {
     "data": {
      "text/plain": [
       "52455"
      ]
     },
     "execution_count": 12,
     "metadata": {},
     "output_type": "execute_result"
    }
   ],
   "source": [
    "data = data[data.ZQUALITY != -2]\n",
    "len(data)"
   ]
  },
  {
   "cell_type": "code",
   "execution_count": 13,
   "metadata": {},
   "outputs": [
    {
     "data": {
      "text/plain": [
       "51509"
      ]
     },
     "execution_count": 13,
     "metadata": {},
     "output_type": "execute_result"
    }
   ],
   "source": [
    "data = data[data.ZQUALITY != -1]\n",
    "len(data)"
   ]
  },
  {
   "cell_type": "code",
   "execution_count": 14,
   "metadata": {},
   "outputs": [
    {
     "data": {
      "text/plain": [
       "42588"
      ]
     },
     "execution_count": 14,
     "metadata": {},
     "output_type": "execute_result"
    }
   ],
   "source": [
    "data = data[data.ZQUALITY != 1]\n",
    "len(data)"
   ]
  },
  {
   "cell_type": "code",
   "execution_count": 15,
   "metadata": {},
   "outputs": [
    {
     "data": {
      "text/plain": [
       "37402"
      ]
     },
     "execution_count": 15,
     "metadata": {},
     "output_type": "execute_result"
    }
   ],
   "source": [
    "data = data[data.ZQUALITY != 2]\n",
    "len(data)"
   ]
  },
  {
   "cell_type": "code",
   "execution_count": 19,
   "metadata": {},
   "outputs": [
    {
     "data": {
      "text/plain": [
       "(array([ 301.,  601., 1044., 1037., 1303., 1184., 2302., 6145., 6479.,\n",
       "        4778., 3836., 3077., 2892., 1814.,  470.,   30.,   22.,   27.,\n",
       "          14.,   21.]),\n",
       " array([0. , 0.1, 0.2, 0.3, 0.4, 0.5, 0.6, 0.7, 0.8, 0.9, 1. , 1.1, 1.2,\n",
       "        1.3, 1.4, 1.5, 1.6, 1.7, 1.8, 1.9, 2. ]),\n",
       " <a list of 20 Patch objects>)"
      ]
     },
     "execution_count": 19,
     "metadata": {},
     "output_type": "execute_result"
    },
    {
     "data": {
      "image/png": "[encoded data removed]",
      "text/plain": [
       "<Figure size 432x288 with 1 Axes>"
      ]
     },
     "metadata": {},
     "output_type": "display_data"
    }
   ],
   "source": [
    "y = data.ZBEST\n",
    "plt.hist(y, bins=20, range=(0,2))"
   ]
  },
  {
   "cell_type": "code",
   "execution_count": null,
   "metadata": {},
   "outputs": [],
   "source": []
  }
 ],
 "metadata": {
  "kernelspec": {
   "display_name": "Python 3",
   "language": "python",
   "name": "python3"
  },
  "language_info": {
   "codemirror_mode": {
    "name": "ipython",
    "version": 3
   },
   "file_extension": ".py",
   "mimetype": "text/x-python",
   "name": "python",
   "nbconvert_exporter": "python",
   "pygments_lexer": "ipython3",
   "version": "3.6.8"
  }
 },
 "nbformat": 4,
 "nbformat_minor": 2
}
